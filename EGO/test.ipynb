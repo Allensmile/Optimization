{
 "cells": [
  {
   "cell_type": "code",
   "execution_count": 45,
   "metadata": {
    "collapsed": false
   },
   "outputs": [],
   "source": [
    "class LHS(object):\n",
    "\n",
    "    def __init__(self,num,boundary,function=LHS.func):\n",
    "        if function in [None,'']:\n",
    "            self._function=func\n",
    "        else:\n",
    "            self._function=function\n",
    "        self.num=num\n",
    "        self.boundary=boundary\n",
    "\n",
    "    @staticmethod\n",
    "    def func(x):\n",
    "        '''\n",
    "        默认方法\n",
    "        '''\n",
    "        return x**2\n",
    "    @property    \n",
    "    def boundary(self):\n",
    "        return self._boundary\n",
    "    @boundary.setter\n",
    "    def boundary(self,b):\n",
    "        if not  b or type(b) !=list:\n",
    "            raise ValueError('boundary must be a list')\n",
    "        print 'aaa'\n",
    "        self._boundary=b\n",
    "\n",
    "    @property    \n",
    "    def num(self):\n",
    "        return self._num\n",
    "    @num.setter\n",
    "    def num(self,num):\n",
    "        if not isinstance(num, int):\n",
    "            raise ValueError('number must be an integer!')\n",
    "        if num<0 or  num >1000:\n",
    "            raise ValueError('score must between 0 ~ 1000!')\n",
    "        self._num=num\n"
   ]
  },
  {
   "cell_type": "code",
   "execution_count": 3,
   "metadata": {
    "collapsed": false
   },
   "outputs": [],
   "source": [
    "import numpy as np"
   ]
  },
  {
   "cell_type": "code",
   "execution_count": 80,
   "metadata": {
    "collapsed": false
   },
   "outputs": [],
   "source": [
    "a=-10;b=10\n",
    "x=(b - a) * np.random.random_sample((1,100)) + a\n",
    "x.sort()\n"
   ]
  },
  {
   "cell_type": "code",
   "execution_count": 81,
   "metadata": {
    "collapsed": false
   },
   "outputs": [],
   "source": [
    "x=map(np.random.permutation,x)\n",
    "x=np.array(x)"
   ]
  },
  {
   "cell_type": "code",
   "execution_count": 82,
   "metadata": {
    "collapsed": false
   },
   "outputs": [],
   "source": [
    "x=x[:,:10]\n",
    "x.sort()"
   ]
  },
  {
   "cell_type": "code",
   "execution_count": 45,
   "metadata": {
    "collapsed": false
   },
   "outputs": [
    {
     "ename": "SyntaxError",
     "evalue": "invalid syntax (<ipython-input-45-1551193f3852>, line 1)",
     "output_type": "error",
     "traceback": [
      "\u001b[0;36m  File \u001b[0;32m\"<ipython-input-45-1551193f3852>\"\u001b[0;36m, line \u001b[0;32m1\u001b[0m\n\u001b[0;31m    (,j)=x.shape\u001b[0m\n\u001b[0m     ^\u001b[0m\n\u001b[0;31mSyntaxError\u001b[0m\u001b[0;31m:\u001b[0m invalid syntax\n"
     ]
    }
   ],
   "source": [
    "=x.shape"
   ]
  },
  {
   "cell_type": "code",
   "execution_count": 39,
   "metadata": {
    "collapsed": false
   },
   "outputs": [
    {
     "data": {
      "text/plain": [
       "1"
      ]
     },
     "execution_count": 39,
     "metadata": {},
     "output_type": "execute_result"
    }
   ],
   "source": [
    "len(x)"
   ]
  },
  {
   "cell_type": "code",
   "execution_count": 41,
   "metadata": {
    "collapsed": false
   },
   "outputs": [
    {
     "data": {
      "text/plain": [
       "array([-6.96446825])"
      ]
     },
     "execution_count": 41,
     "metadata": {},
     "output_type": "execute_result"
    }
   ],
   "source": [
    "x[:,1]"
   ]
  },
  {
   "cell_type": "code",
   "execution_count": 99,
   "metadata": {
    "collapsed": false
   },
   "outputs": [],
   "source": [
    "import math\n",
    "def distance(theta,p,xi,xj):\n",
    "    s=0\n",
    "    dim=len(xi)\n",
    "    for d in range(dim):\n",
    "        s+=theta[d]*pow(abs(xi[d]-xj[d]),p[d])\n",
    "    return s\n",
    "def corr(theta,p,xi,xj):\n",
    "    return math.exp(-distance(theta,p,xi,xj))\n",
    "def corrMartrix(x,theta,p):\n",
    "    j=x.shape[1]\n",
    "    CM=np.empty([j,j],dtype=np.float32)\n",
    "    for m in range(j):\n",
    "        for n in range(j):\n",
    "            CM[m][n]=corr(theta,p,x[:,m],x[:,n])\n",
    "    return np.asmatrix(CM)"
   ]
  },
  {
   "cell_type": "code",
   "execution_count": 75,
   "metadata": {
    "collapsed": false
   },
   "outputs": [],
   "source": [
    "a=corrMartrix(x,[1],[2])"
   ]
  },
  {
   "cell_type": "code",
   "execution_count": 52,
   "metadata": {
    "collapsed": false
   },
   "outputs": [],
   "source": [
    "CM=np.empty([j,j],dtype=float)"
   ]
  },
  {
   "cell_type": "code",
   "execution_count": 74,
   "metadata": {
    "collapsed": false
   },
   "outputs": [
    {
     "ename": "LinAlgError",
     "evalue": "Singular matrix",
     "output_type": "error",
     "traceback": [
      "\u001b[0;31m---------------------------------------------------------------------------\u001b[0m",
      "\u001b[0;31mLinAlgError\u001b[0m                               Traceback (most recent call last)",
      "\u001b[0;32m<ipython-input-74-2067a6dd2ebf>\u001b[0m in \u001b[0;36m<module>\u001b[0;34m()\u001b[0m\n\u001b[1;32m      1\u001b[0m \u001b[0;32mfrom\u001b[0m \u001b[0mnumpy\u001b[0m \u001b[0;32mimport\u001b[0m \u001b[0mlinalg\u001b[0m \u001b[0;32mas\u001b[0m \u001b[0mLA\u001b[0m\u001b[0;34m\u001b[0m\u001b[0m\n\u001b[0;32m----> 2\u001b[0;31m \u001b[0mLA\u001b[0m\u001b[0;34m.\u001b[0m\u001b[0minv\u001b[0m\u001b[0;34m(\u001b[0m\u001b[0mCM\u001b[0m\u001b[0;34m)\u001b[0m\u001b[0;34m\u001b[0m\u001b[0m\n\u001b[0m",
      "\u001b[0;32m/System/Library/Frameworks/Python.framework/Versions/2.7/Extras/lib/python/numpy/linalg/linalg.pyc\u001b[0m in \u001b[0;36minv\u001b[0;34m(a)\u001b[0m\n\u001b[1;32m    517\u001b[0m     \u001b[0msignature\u001b[0m \u001b[0;34m=\u001b[0m \u001b[0;34m'D->D'\u001b[0m \u001b[0;32mif\u001b[0m \u001b[0misComplexType\u001b[0m\u001b[0;34m(\u001b[0m\u001b[0mt\u001b[0m\u001b[0;34m)\u001b[0m \u001b[0;32melse\u001b[0m \u001b[0;34m'd->d'\u001b[0m\u001b[0;34m\u001b[0m\u001b[0m\n\u001b[1;32m    518\u001b[0m     \u001b[0mextobj\u001b[0m \u001b[0;34m=\u001b[0m \u001b[0mget_linalg_error_extobj\u001b[0m\u001b[0;34m(\u001b[0m\u001b[0m_raise_linalgerror_singular\u001b[0m\u001b[0;34m)\u001b[0m\u001b[0;34m\u001b[0m\u001b[0m\n\u001b[0;32m--> 519\u001b[0;31m     \u001b[0mainv\u001b[0m \u001b[0;34m=\u001b[0m \u001b[0m_umath_linalg\u001b[0m\u001b[0;34m.\u001b[0m\u001b[0minv\u001b[0m\u001b[0;34m(\u001b[0m\u001b[0ma\u001b[0m\u001b[0;34m,\u001b[0m \u001b[0msignature\u001b[0m\u001b[0;34m=\u001b[0m\u001b[0msignature\u001b[0m\u001b[0;34m,\u001b[0m \u001b[0mextobj\u001b[0m\u001b[0;34m=\u001b[0m\u001b[0mextobj\u001b[0m\u001b[0;34m)\u001b[0m\u001b[0;34m\u001b[0m\u001b[0m\n\u001b[0m\u001b[1;32m    520\u001b[0m     \u001b[0;32mreturn\u001b[0m \u001b[0mwrap\u001b[0m\u001b[0;34m(\u001b[0m\u001b[0mainv\u001b[0m\u001b[0;34m.\u001b[0m\u001b[0mastype\u001b[0m\u001b[0;34m(\u001b[0m\u001b[0mresult_t\u001b[0m\u001b[0;34m)\u001b[0m\u001b[0;34m)\u001b[0m\u001b[0;34m\u001b[0m\u001b[0m\n\u001b[1;32m    521\u001b[0m \u001b[0;34m\u001b[0m\u001b[0m\n",
      "\u001b[0;32m/System/Library/Frameworks/Python.framework/Versions/2.7/Extras/lib/python/numpy/linalg/linalg.pyc\u001b[0m in \u001b[0;36m_raise_linalgerror_singular\u001b[0;34m(err, flag)\u001b[0m\n\u001b[1;32m     88\u001b[0m \u001b[0;34m\u001b[0m\u001b[0m\n\u001b[1;32m     89\u001b[0m \u001b[0;32mdef\u001b[0m \u001b[0m_raise_linalgerror_singular\u001b[0m\u001b[0;34m(\u001b[0m\u001b[0merr\u001b[0m\u001b[0;34m,\u001b[0m \u001b[0mflag\u001b[0m\u001b[0;34m)\u001b[0m\u001b[0;34m:\u001b[0m\u001b[0;34m\u001b[0m\u001b[0m\n\u001b[0;32m---> 90\u001b[0;31m     \u001b[0;32mraise\u001b[0m \u001b[0mLinAlgError\u001b[0m\u001b[0;34m(\u001b[0m\u001b[0;34m\"Singular matrix\"\u001b[0m\u001b[0;34m)\u001b[0m\u001b[0;34m\u001b[0m\u001b[0m\n\u001b[0m\u001b[1;32m     91\u001b[0m \u001b[0;34m\u001b[0m\u001b[0m\n\u001b[1;32m     92\u001b[0m \u001b[0;32mdef\u001b[0m \u001b[0m_raise_linalgerror_nonposdef\u001b[0m\u001b[0;34m(\u001b[0m\u001b[0merr\u001b[0m\u001b[0;34m,\u001b[0m \u001b[0mflag\u001b[0m\u001b[0;34m)\u001b[0m\u001b[0;34m:\u001b[0m\u001b[0;34m\u001b[0m\u001b[0m\n",
      "\u001b[0;31mLinAlgError\u001b[0m: Singular matrix"
     ]
    }
   ],
   "source": [
    "from numpy import linalg as LA\n"
   ]
  },
  {
   "cell_type": "code",
   "execution_count": 77,
   "metadata": {
    "collapsed": false
   },
   "outputs": [],
   "source": [
    "a=np.asmatrix(a)"
   ]
  },
  {
   "cell_type": "code",
   "execution_count": 78,
   "metadata": {
    "collapsed": false
   },
   "outputs": [
    {
     "data": {
      "text/plain": [
       "matrix([[ -1937265.125     ,    -98036.1953125 ,  -3065854.25      , ...,\n",
       "             33290.1328125 ,   -514630.375     , -21686724.        ],\n",
       "        [   -98036.1875    ,  -7853673.        ,   3593809.5       , ...,\n",
       "            763123.0625    ,  -9296311.        ,  -1066633.25      ],\n",
       "        [ -3065854.25      ,   3593809.5       ,  -2096369.        , ...,\n",
       "             97375.6875    ,  -1481651.625     ,  -1718462.75      ],\n",
       "        ..., \n",
       "        [    33290.13671875,    763123.0625    ,     97375.7109375 , ...,\n",
       "            411989.40625   ,  -1265667.375     ,    -69326.3125    ],\n",
       "        [  -514630.4375    ,  -9296311.        ,  -1481651.75      , ...,\n",
       "          -1265667.375     ,  18947168.        ,    832991.9375    ],\n",
       "        [-21686724.        ,  -1066633.25      ,  -1718462.75      , ...,\n",
       "            -69326.3203125 ,    832992.0625    , -14846957.        ]], dtype=float32)"
      ]
     },
     "execution_count": 78,
     "metadata": {},
     "output_type": "execute_result"
    }
   ],
   "source": [
    "a.I"
   ]
  },
  {
   "cell_type": "code",
   "execution_count": 89,
   "metadata": {
    "collapsed": false
   },
   "outputs": [
    {
     "data": {
      "text/plain": [
       "matrix([[-16.0617513 , -13.0363391 ,  -9.62624586,  -5.71061671,\n",
       "          -1.35278714,  -1.16883422,   2.10991529,   6.55147332,\n",
       "          17.7930863 ,  18.1579626 ]])"
      ]
     },
     "execution_count": 89,
     "metadata": {},
     "output_type": "execute_result"
    }
   ],
   "source": [
    "sum(X*2)"
   ]
  },
  {
   "cell_type": "code",
   "execution_count": 87,
   "metadata": {
    "collapsed": true
   },
   "outputs": [],
   "source": [
    "X=np.asmatrix(x)"
   ]
  },
  {
   "cell_type": "code",
   "execution_count": 91,
   "metadata": {
    "collapsed": false
   },
   "outputs": [
    {
     "data": {
      "text/plain": [
       "matrix([[1]])"
      ]
     },
     "execution_count": 91,
     "metadata": {},
     "output_type": "execute_result"
    }
   ],
   "source": [
    "One=np.matrix([1]*len(x))\n",
    "One.T"
   ]
  },
  {
   "cell_type": "code",
   "execution_count": 127,
   "metadata": {
    "collapsed": false
   },
   "outputs": [],
   "source": [
    "def func(X):\n",
    "    return sum(X**2)\n",
    "def likelihood(x,theta,p):\n",
    "    n=x.shape[1]\n",
    "    y=func(x)\n",
    "    Y=np.asmatrix(y).T\n",
    "    X=np.asmatrix(x)\n",
    "    OneT=np.matrix([1]*n)\n",
    "    One=OneT.T\n",
    "    C=corrMartrix(x,[1],[1])\n",
    "    CI=C.I\n",
    "    mu=OneT*CI*Y/(OneT*CI*One)\n",
    "    sigma_2=((Y-One*mu).T*CI*(Y-One*mu))/n\n",
    "    return mu,sigma_2"
   ]
  },
  {
   "cell_type": "code",
   "execution_count": 128,
   "metadata": {
    "collapsed": false
   },
   "outputs": [
    {
     "data": {
      "text/plain": [
       "(matrix([[ 31.25365068]]), matrix([[ 619.41367968]]))"
      ]
     },
     "execution_count": 128,
     "metadata": {},
     "output_type": "execute_result"
    }
   ],
   "source": [
    "likelihood(x,[1],[1])"
   ]
  },
  {
   "cell_type": "code",
   "execution_count": 126,
   "metadata": {
    "collapsed": false
   },
   "outputs": [],
   "source": [
    "n=x.shape[1]\n",
    "y=func(x)\n",
    "Y=np.asmatrix(y).T\n",
    "X=np.asmatrix(x)\n",
    "OneT=np.matrix([1]*n)\n",
    "One=OneT.T\n",
    "C=corrMartrix(x,[1],[1])\n",
    "CI=C.I\n",
    "mu=OneT*CI*Y/(OneT*CI*One)"
   ]
  },
  {
   "cell_type": "code",
   "execution_count": 130,
   "metadata": {
    "collapsed": false
   },
   "outputs": [
    {
     "data": {
      "text/plain": [
       "1.4142135623730951"
      ]
     },
     "execution_count": 130,
     "metadata": {},
     "output_type": "execute_result"
    }
   ],
   "source": [
    "math.sqrt(2)"
   ]
  },
  {
   "cell_type": "code",
   "execution_count": 133,
   "metadata": {
    "collapsed": false
   },
   "outputs": [],
   "source": [
    "PI=math.pi\n"
   ]
  },
  {
   "cell_type": "code",
   "execution_count": 198,
   "metadata": {
    "collapsed": false
   },
   "outputs": [
    {
     "name": "stdout",
     "output_type": "stream",
     "text": [
      "0.0\n"
     ]
    }
   ],
   "source": [
    "n=X.shape[1]\n",
    "y=func(X)\n",
    "Y=np.asmatrix(y).T\n",
    "OneT=np.matrix([1]*n)\n",
    "One=OneT.T\n",
    "C=corrMartrix(X,[1],[1])\n",
    "CI=C.I\n",
    "mu=OneT*CI*Y/(OneT*CI*One)\n",
    "sigma_2=((Y-One*mu).T*CI*(Y-One*mu))/n\n",
    "print 1.0/math.sqrt((2*PI*sigma_2)**n*LA.det(C))*math.exp(((Y-One*mu).T*CI*(Y-One*mu))/(-2*sigma_2))"
   ]
  },
  {
   "cell_type": "code",
   "execution_count": 199,
   "metadata": {
    "collapsed": false
   },
   "outputs": [
    {
     "data": {
      "text/plain": [
       "0.27207583"
      ]
     },
     "execution_count": 199,
     "metadata": {},
     "output_type": "execute_result"
    }
   ],
   "source": [
    "LA.det(C)"
   ]
  },
  {
   "cell_type": "code",
   "execution_count": 201,
   "metadata": {
    "collapsed": false
   },
   "outputs": [
    {
     "data": {
      "text/plain": [
       "matrix([[  1.33148030e+34]])"
      ]
     },
     "execution_count": 201,
     "metadata": {},
     "output_type": "execute_result"
    }
   ],
   "source": [
    "(2*PI*sigma_2)**n"
   ]
  },
  {
   "cell_type": "code",
   "execution_count": 202,
   "metadata": {
    "collapsed": false
   },
   "outputs": [
    {
     "data": {
      "text/plain": [
       "matrix([[-5.]])"
      ]
     },
     "execution_count": 202,
     "metadata": {},
     "output_type": "execute_result"
    }
   ],
   "source": [
    "((Y-One*mu).T*CI*(Y-One*mu))/(-2*sigma_2)"
   ]
  },
  {
   "cell_type": "code",
   "execution_count": 143,
   "metadata": {
    "collapsed": false
   },
   "outputs": [
    {
     "data": {
      "text/plain": [
       "0.0"
      ]
     },
     "execution_count": 143,
     "metadata": {},
     "output_type": "execute_result"
    }
   ],
   "source": [
    "math.exp(((Y-One*mu).T*CI*(Y-One*mu))/-2*sigma_2)"
   ]
  },
  {
   "cell_type": "code",
   "execution_count": 185,
   "metadata": {
    "collapsed": false
   },
   "outputs": [
    {
     "data": {
      "text/plain": [
       "matrix([[ 37.29081987]])"
      ]
     },
     "execution_count": 185,
     "metadata": {},
     "output_type": "execute_result"
    }
   ],
   "source": [
    "mu"
   ]
  },
  {
   "cell_type": "code",
   "execution_count": 182,
   "metadata": {
    "collapsed": false
   },
   "outputs": [
    {
     "data": {
      "text/plain": [
       "matrix([[ 237.0944424]])"
      ]
     },
     "execution_count": 182,
     "metadata": {},
     "output_type": "execute_result"
    }
   ],
   "source": [
    "sigma_2"
   ]
  },
  {
   "cell_type": "code",
   "execution_count": 181,
   "metadata": {
    "collapsed": false
   },
   "outputs": [
    {
     "data": {
      "text/plain": [
       "34.562408895858468"
      ]
     },
     "execution_count": 181,
     "metadata": {},
     "output_type": "execute_result"
    }
   ],
   "source": [
    "y.mean()"
   ]
  },
  {
   "cell_type": "code",
   "execution_count": 196,
   "metadata": {
    "collapsed": false
   },
   "outputs": [
    {
     "data": {
      "text/plain": [
       "matrix([[  2.40326285e+00,  -1.83641207e+00,  -3.33453265e-08, ...,\n",
       "           5.55644889e-15,  -2.78751576e-15,  -9.42064009e-16],\n",
       "        [ -1.83641207e+00,   2.57206297e+00,  -4.44177568e-01, ...,\n",
       "          -8.43877157e-15,   3.99448287e-15,   6.08360556e-16],\n",
       "        [ -3.33453265e-08,  -4.44177568e-01,   1.71519005e+00, ...,\n",
       "           4.15611285e-14,  -3.88941029e-14,   2.44614158e-15],\n",
       "        ..., \n",
       "        [  5.55644889e-15,  -8.43877157e-15,   4.15611285e-14, ...,\n",
       "           1.49502859e+01,  -1.27745619e+01,   7.44865716e-08],\n",
       "        [ -2.78751576e-15,   3.99448287e-15,  -3.88941029e-14, ...,\n",
       "          -1.27745619e+01,   1.38369474e+01,  -9.26271737e-01],\n",
       "        [ -9.42064009e-16,   6.08360556e-16,   2.44614158e-15, ...,\n",
       "           7.44865787e-08,  -9.26271737e-01,   1.55260599e+00]], dtype=float32)"
      ]
     },
     "execution_count": 196,
     "metadata": {},
     "output_type": "execute_result"
    }
   ],
   "source": [
    "C.I"
   ]
  },
  {
   "cell_type": "code",
   "execution_count": 205,
   "metadata": {
    "collapsed": false
   },
   "outputs": [],
   "source": [
    "import pickle\n",
    "def loadData(size,filename):\n",
    "    with open(filename,'r') as f:\n",
    "        x=pickle.load(f)\n",
    "    map(np.random.permutation,x)\n",
    "    sample=np.array(np.random.permutation(x)[:size])\n",
    "    sample=sample[:,:size]\n",
    "    sample.sort()\n",
    "    return sample\n",
    "def likelihood(x,theta,p):\n",
    "    n=x.shape[1]\n",
    "    y=func(x)\n",
    "    Y=np.asmatrix(y).T\n",
    "    OneT=np.matrix([1]*n)\n",
    "    One=OneT.T\n",
    "    C=corrMartrix(x,theta,p)\n",
    "    CI=C.I\n",
    "    mu=OneT*CI*Y/(OneT*CI*One)\n",
    "    sigma_2=((Y-One*mu).T*CI*(Y-One*mu))/n\n",
    "    return -1.0/math.sqrt((2*PI*sigma_2)**n*LA.det(C))*math.exp(((Y-One*mu).T*CI*(Y-One*mu))/(-2*sigma_2))"
   ]
  },
  {
   "cell_type": "code",
   "execution_count": 206,
   "metadata": {
    "collapsed": false
   },
   "outputs": [],
   "source": [
    "X=loadData(10,'haha.tl')"
   ]
  },
  {
   "cell_type": "code",
   "execution_count": 207,
   "metadata": {
    "collapsed": false
   },
   "outputs": [
    {
     "data": {
      "text/plain": [
       "-4.742376976370575e-21"
      ]
     },
     "execution_count": 207,
     "metadata": {},
     "output_type": "execute_result"
    }
   ],
   "source": [
    "likelihood(X,[1],[1])"
   ]
  },
  {
   "cell_type": "code",
   "execution_count": 208,
   "metadata": {
    "collapsed": false
   },
   "outputs": [
    {
     "data": {
      "text/plain": [
       "1.4142135623730951"
      ]
     },
     "execution_count": 208,
     "metadata": {},
     "output_type": "execute_result"
    }
   ],
   "source": [
    "2**0.5"
   ]
  },
  {
   "cell_type": "code",
   "execution_count": null,
   "metadata": {
    "collapsed": true
   },
   "outputs": [],
   "source": []
  }
 ],
 "metadata": {
  "kernelspec": {
   "display_name": "Python 2",
   "language": "python",
   "name": "python2"
  },
  "language_info": {
   "codemirror_mode": {
    "name": "ipython",
    "version": 2
   },
   "file_extension": ".py",
   "mimetype": "text/x-python",
   "name": "python",
   "nbconvert_exporter": "python",
   "pygments_lexer": "ipython2",
   "version": "2.7.6"
  }
 },
 "nbformat": 4,
 "nbformat_minor": 0
}
