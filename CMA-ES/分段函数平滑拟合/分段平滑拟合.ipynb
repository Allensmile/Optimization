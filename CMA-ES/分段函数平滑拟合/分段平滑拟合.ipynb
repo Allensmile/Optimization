{
 "cells": [
  {
   "cell_type": "markdown",
   "metadata": {},
   "source": [
    "## 线性分段平滑\n",
    "### 构造分段函数  \n",
    "$\\begin{equation}\n",
    "    f(x)=\n",
    "   \\begin{cases}\n",
    "   x &\\mbox{x<50,}\\\\\n",
    "   2x-50 &\\mbox{others;}\n",
    "   \\end{cases}\n",
    "  \\end{equation}$  \n",
    "### 构造测试数据集\n",
    "测试数据集加高斯均匀扰动--rd.uniform(-2,2)*rd.gauss(0,4)\n",
    "### 构造评价函数\n",
    "1. interval：对两段测试函数的mse直接求和；\n",
    "2. continuity1：在interval基础上增加间断点连续性判断指标：$e^{\\Delta Y_s(50)-\\alpha}-1$,其中$e^{\\Delta Y_s(50)}$ 代表拟合分段函数在50处的左右间断点差的绝对值,$\\alpha $默认代表$Y$值域范围的$1\\%$大小；\n",
    "3. continuity2：在interval基础上增加间断点一阶导出评价指标：$e^{\\frac{\\Delta \\sigma-\\beta}{10e}}-1$,其中$\\Delta \\sigma$代表左右间断点处的左右导数的$arctan$差得绝对值，$\\beta$如未特殊说明全局默认为10度($\\frac {\\pi}{18}$)；\n",
    "4. continuity3:综合$2$与$3$,构造评价函数。\n",
    "\n",
    "### 实验"
   ]
  },
  {
   "cell_type": "code",
   "execution_count": 1,
   "metadata": {
    "collapsed": false
   },
   "outputs": [
    {
     "name": "stdout",
     "output_type": "stream",
     "text": [
      "Using matplotlib backend: MacOSX\n",
      "Populating the interactive namespace from numpy and matplotlib\n"
     ]
    }
   ],
   "source": [
    "import random as rd\n",
    "import cma\n",
    "import math\n",
    "from multiprocessing import Pool\n",
    "%pylab\n",
    "from __future__ import division\n",
    "plt.rc('figure', figsize=(16, 9))"
   ]
  },
  {
   "cell_type": "code",
   "execution_count": 2,
   "metadata": {
    "collapsed": false
   },
   "outputs": [],
   "source": [
    "#构造一维数据集\n",
    "def linefunc(x):\n",
    "\tif x<50:\n",
    "\t\treturn np.poly1d([1,0])(x)+rd.uniform(-2,2)*rd.gauss(0,4)\n",
    "\treturn np.poly1d([2,-40])(x)+rd.uniform(-2,2)*rd.gauss(0,4)\n",
    "E=math.exp\n",
    "DIM=4\n",
    "PI=math.pi\n",
    "X=range(100)\n",
    "Y=map(linefunc,X)\n",
    "RANGE=max(Y)-min(Y)\n",
    "ALPHA=0.01\n",
    "BETA=PI/18.0"
   ]
  },
  {
   "cell_type": "code",
   "execution_count": 3,
   "metadata": {
    "collapsed": false
   },
   "outputs": [],
   "source": [
    "def realLineFunc(param):\n",
    "\tdef f(x):\n",
    "\t\tif x<50:\n",
    "\t\t\treturn np.poly1d([param[0],param[1]])(x)\n",
    "\t\treturn np.poly1d([param[2],param[3]])(x)\n",
    "\treturn f\n",
    "\n",
    "def fittingFunc(param):\n",
    "\treturn np.poly1d(param)\n",
    "\n",
    "def mse(x,y,param):\n",
    "\tf1=fittingFunc(param[:2])\n",
    "\tf2=fittingFunc(param[2:4])\n",
    "\ts=0\n",
    "\tfor i in range(50):\n",
    "\t\ts+=(y[i]-f1(x[i]))**2\n",
    "\tfor i in range(50,100):\n",
    "\t\ts+=(y[i]-f2(x[i]))**2\n",
    "\treturn math.sqrt(s/100.0)\n",
    "#间断点\n",
    "def evalfunc1(param):\n",
    "\tf1=fittingFunc(param[:2])\n",
    "\tf2=fittingFunc(param[2:4])\n",
    "\ts=mse(X,Y,param)/RANGE\n",
    "\ta=abs(f1(50)-f2(50))/RANGE\n",
    "\treturn s+E(a-ALPHA)-1\n",
    "#间断点一阶导数\n",
    "def evalfunc2(param):\n",
    "\ts=mse(X,Y,param)/RANGE\n",
    "\tb=abs(math.atan(param[0])-math.atan(param[2]))\n",
    "\treturn s+(E((b-BETA)/(10*E(1)))-1)\n",
    "#考虑以上两种\n",
    "def evalfunc3(param):\n",
    "\tf1=fittingFunc(param[:2])\n",
    "\tf2=fittingFunc(param[2:4])\n",
    "\ts=mse(X,Y,param)/RANGE\n",
    "\ta=abs(f1(50)-f2(50))/RANGE\n",
    "\tb=abs(math.atan(param[0])-math.atan(param[2]))\n",
    "\treturn s+(E((b-BETA)/(10*math.e))-1)+E(a-ALPHA)-1\n",
    "#不考虑其他因素\n",
    "def evalfunc(param):\n",
    "\ts=mse(X,Y,param)\n",
    "\treturn s/RANGE\n",
    "\n",
    "def cmaUser(func):\n",
    "    pool=Pool()\n",
    "    es = cma.CMAEvolutionStrategy(DIM * [1], 0.3,{'popsize':15})\n",
    "    while not es.stop() :\n",
    "        solutions = es.ask()\n",
    "        es.tell(solutions,pool.map(func,solutions))\n",
    "    print 'eval value:%s'%es.result()[1]\n",
    "    return es.result()[0]\n",
    "def draw(title):\n",
    "    global X\n",
    "    res=cmaUser(evalfunc)\n",
    "    res1=cmaUser(evalfunc1)\n",
    "    res2=cmaUser(evalfunc2)\n",
    "    res3=cmaUser(evalfunc3)\n",
    "    plt.figure(1) \n",
    "    plt.plot(X,Y,'b.',alpha=0.6,label=\"measure point\")\n",
    "    X1=X+[49.99]\n",
    "    X1.sort()\n",
    "    plt.plot(X1,map(realLineFunc(res),X1),c=\"red\",lw=2,ls=\"-\",alpha=0.7,label=\"interval\")\n",
    "    plt.plot(X1,map(realLineFunc(res1),X1),c=\"blue\",lw=2,ls=\"-\",alpha=0.7,label=\"continuity1\")\n",
    "    plt.plot(X1,map(realLineFunc(res2),X1),c=\"green\",lw=2,ls=\"-\",alpha=0.7,label=\"continuity2\")\n",
    "    plt.plot(X1,map(realLineFunc(res3),X1),c=\"black\",lw=2,ls=\"--\",alpha=0.7,label=\"continuity3\")\n",
    "    plt.legend(loc='best')\n",
    "    plt.xlabel('x')\n",
    "    plt.ylabel('y')\n",
    "    plt.title(title)\n",
    "    plt.show()\n",
    "    plt.figure(2)\n",
    "    plt.plot(X,Y,'b.',alpha=0.6,label=\"measure point\")\n",
    "    plt.plot(X1,map(realLineFunc([1,0,2,-40]),X1),c=\"cyan\",lw=2,ls=\"-\",alpha=0.7,label=\"real function\")\n",
    "    plt.plot(X1,map(realLineFunc(res3),X1),c=\"black\",lw=2,ls=\"--\",alpha=0.7,label=\"continuity3\")"
   ]
  },
  {
   "cell_type": "code",
   "execution_count": null,
   "metadata": {
    "collapsed": true
   },
   "outputs": [],
   "source": [
    "draw('fitting of interval line')"
   ]
  },
  {
   "cell_type": "markdown",
   "metadata": {
    "collapsed": false
   },
   "source": [
    "<center>4种策略下最优评价函数值</center>\n",
    "\n",
    " interval         | continuity1  |continuity2    |continuity3\n",
    " ---------------- |---------------|--------------|--------------\n",
    " 0.0309909258183  |0.0237448247489|0.0339220595649|0.0256780571605\n",
    "![](fig/figure_11.pdf)\n",
    "<center>最优拟合与真实曲线对比图</center>\n",
    "![](fig/figure_12.pdf)\n",
    "## 二次曲线分段线性平滑\n",
    "### 构造分段函数\n",
    "构造函数$f(x)=100-x^2$,在定义域$x\\in [-7,7]$上均匀划分7段进行线性拟合。\n",
    "### 构造测试数据集\n"
   ]
  },
  {
   "cell_type": "code",
   "execution_count": 3,
   "metadata": {
    "collapsed": false
   },
   "outputs": [
    {
     "data": {
      "text/plain": [
       "<matplotlib.collections.PathCollection at 0x1139ef210>"
      ]
     },
     "execution_count": 3,
     "metadata": {},
     "output_type": "execute_result"
    }
   ],
   "source": [
    "#构造数据集\n",
    "E=math.exp\n",
    "DIM=14\n",
    "PI=math.pi\n",
    "def linefunc2(x):\n",
    "    return 100-x**2++rd.uniform(-3,3)*rd.gauss(0,4)\n",
    "X=np.linspace(-7,7,301)\n",
    "Y=map(linefunc2,X)\n",
    "RANGE=max(Y)-min(Y)\n",
    "ALPHA=0.01\n",
    "BETA=PI/4.0\n",
    "scatter(X,Y)"
   ]
  },
  {
   "cell_type": "markdown",
   "metadata": {
    "collapsed": false
   },
   "source": [
    "![](fig/figure_21.pdf)\n",
    "### 实验\n",
    "划分七段用CMA线性拟合14个参数"
   ]
  },
  {
   "cell_type": "code",
   "execution_count": 9,
   "metadata": {
    "collapsed": false
   },
   "outputs": [],
   "source": [
    "def realLineFunc(param):\n",
    "    def f(x):\n",
    "        if x<-5:\n",
    "            return np.poly1d([param[0],param[1]])(x)\n",
    "        elif x<-3:\n",
    "            return np.poly1d([param[2],param[3]])(x)\n",
    "        elif x<-1:\n",
    "            return np.poly1d([param[4],param[5]])(x)\n",
    "        elif x<1:\n",
    "            return np.poly1d([param[6],param[7]])(x)\n",
    "        elif x<3:\n",
    "            return np.poly1d([param[8],param[9]])(x)\n",
    "        elif x<5:\n",
    "            return np.poly1d([param[10],param[11]])(x)\n",
    "        else:\n",
    "            return np.poly1d([param[12],param[13]])(x)\n",
    "    return f\n",
    "def mse(x,y,param):\n",
    "    s=0\n",
    "    for j in range(0,14,2):\n",
    "        for i in range(int(j/2)*10,int(j/2+1)*10,1):\n",
    "            s+=(y[i]-fittingFunc(param[j:j+2])(x[i]))**2\n",
    "    return math.sqrt(s/200.0) \n",
    " #间断点\n",
    "def evalfunc1(param):\n",
    "    s=mse(X,Y,param)/RANGE\n",
    "    a=0\n",
    "    for j in range(2,14,2):\n",
    "        a+=E(abs(fittingFunc(param[j-2:j])(X[(j/2)*10])-fittingFunc(param[j:j+2])(X[(j/2)*10]))/RANGE-ALPHA)-1\n",
    "    return s+a\n",
    "#间断点一阶导数\n",
    "def evalfunc2(param):\n",
    "    s=mse(X,Y,param)/RANGE\n",
    "    b=0\n",
    "    for j in range(2,14,2):\n",
    "        b+=(E((abs(math.atan(param[j-2])-math.atan(param[j]))-BETA))-1)/(100*math.e)\n",
    "    return s+b\n",
    "#考虑两种\n",
    "def evalfunc3(param):\n",
    "    s=mse(X,Y,param)/RANGE\n",
    "    a=0\n",
    "    for j in range(2,14,2):\n",
    "        a+=E(abs(fittingFunc(param[j-2:j])(X[(j/2)*10])-fittingFunc(param[j:j+2])(X[(j/2)*10]))/RANGE-ALPHA)-1\n",
    "    b=0\n",
    "    for j in range(2,14,2):\n",
    "        b+=(E((abs(math.atan(param[j-2])-math.atan(param[j]))-BETA)/(100*math.e))-1)\n",
    "    return s+a+b\n",
    "#不考虑其他因素\n",
    "def evalfunc(param):\n",
    "    s=mse(X,Y,param)/RANGE\n",
    "    return s\n",
    "\n",
    "def draw(title):\n",
    "    global X\n",
    "    res=cmaUser(evalfunc)\n",
    "    res1=cmaUser(evalfunc1)\n",
    "    res2=cmaUser(evalfunc2)\n",
    "    res3=cmaUser(evalfunc3)\n",
    "\n",
    "    plt.figure(1) \n",
    "    plt.plot(X,Y,'b.',alpha=0.6,label=\"measure point\")\n",
    "    X1=np.insert(X,0,[-5.01,-3.01,-1.01,0.99,2.99,4.99])\n",
    "    X1.sort()\n",
    "    plt.plot(X1,map(realLineFunc(res),X1),c=\"red\",lw=2,ls=\"-\",alpha=0.7,label=\"interval\")\n",
    "    plt.plot(X1,map(realLineFunc(res1),X1),c=\"blue\",lw=2,ls=\"-\",alpha=0.7,label=\"continuity1\")\n",
    "    plt.plot(X1,map(realLineFunc(res2),X1),c=\"green\",lw=2,ls=\"-\",alpha=0.7,label=\"continuity2\")\n",
    "    plt.plot(X1,map(realLineFunc(res3),X1),c=\"black\",lw=2,ls=\"--\",alpha=0.7,label=\"continuity3\")\n",
    "    plt.legend(loc='best')\n",
    "    plt.xlabel('x')\n",
    "    plt.ylabel('y')\n",
    "    plt.title(title)\n",
    "    plt.show()\n",
    "    plt.figure(2)\n",
    "    plt.plot(X,Y,'b.',alpha=0.6,label=\"measure point\")\n",
    "    plt.plot(X1,map(lambda x:100-x**2,X1),c=\"cyan\",lw=2,ls=\"-\",alpha=0.7,label=\"real function\")\n",
    "    plt.plot(X1,map(realLineFunc(res3),X1),c=\"black\",lw=2,ls=\"--\",alpha=0.7,label=\"continuity3\")\n",
    "    plt.legend(loc='best')\n",
    "    plt.title(\"Compare best fitting curve with real curve \")\n",
    "    plt.xlabel('x')\n",
    "    plt.ylabel('y')\n",
    "    plt.show()"
   ]
  },
  {
   "cell_type": "code",
   "execution_count": null,
   "metadata": {
    "collapsed": true
   },
   "outputs": [],
   "source": [
    "draw('fitting of interval  quadratic curve with line')"
   ]
  },
  {
   "cell_type": "markdown",
   "metadata": {
    "collapsed": true
   },
   "source": [
    "<center>4种策略下最优评价函数值</center>\n",
    "\n",
    " interval         | continuity1  |continuity2    |continuity3\n",
    " ---------------- |---------------|--------------|--------------\n",
    " 0.0171697128166  |-0.0416912639382|0.0146455354793|-0.0480936701006\n",
    "设置BETA=PI/4.0（45度）\n",
    "![](fig/figure_22.pdf)\n",
    "![](fig/figure_23.pdf)\n",
    "\n",
    "## 二次曲线分段二次平滑\n",
    "利用二次曲线$y=ax^2+bx+c$进行分段拟合"
   ]
  },
  {
   "cell_type": "code",
   "execution_count": 9,
   "metadata": {
    "collapsed": false
   },
   "outputs": [],
   "source": [
    "def realLineFunc(param):\n",
    "    def f(x):\n",
    "        if x<-5:\n",
    "            return np.poly1d([param[0],param[1],param[2]])(x)\n",
    "        elif x<-3:\n",
    "            return np.poly1d([param[3],param[4],param[5]])(x)\n",
    "        elif x<-1:\n",
    "            return np.poly1d([param[6],param[7],param[8]])(x)\n",
    "        elif x<1:\n",
    "            return np.poly1d([param[9],param[10],param[11]])(x)\n",
    "        elif x<3:\n",
    "            return np.poly1d([param[12],param[13],param[14]])(x)\n",
    "        elif x<5:\n",
    "            return np.poly1d([param[15],param[16],param[17]])(x)\n",
    "        else:\n",
    "            return np.poly1d([param[18],param[19],param[20]])(x)\n",
    "    return f\n",
    "def mse(x,y,param):\n",
    "    s=0\n",
    "    for j in range(0,21,3):\n",
    "        for i in range(int(j/3)*10,int(j/3+1)*10,1):\n",
    "            s+=(y[i]-fittingFunc(param[j:j+3])(x[i]))**2\n",
    "    return math.sqrt(s/200.0) \n",
    " #间断点\n",
    "def evalfunc1(param):\n",
    "    s=mse(X,Y,param)/RANGE\n",
    "    a=0\n",
    "    for j in range(3,21,3):\n",
    "        a+=E(abs(fittingFunc(param[j-3:j])(X[(j/3)*10])-fittingFunc(param[j:j+3])(X[(j/3)*10]))/RANGE-ALPHA)-1\n",
    "    return s+a\n",
    "#间断点一阶导数\n",
    "def evalfunc2(param):\n",
    "    s=mse(X,Y,param)/RANGE\n",
    "    b=0\n",
    "    for j in range(3,21,3):\n",
    "        b+=(E((abs(math.atan(2*param[j-3]+param[j-2])-math.atan(2*param[j])+param(j+1))-BETA))-1)/(10*math.e)\n",
    "    return s+b\n",
    "#考虑两种\n",
    "def evalfunc3(param):\n",
    "    s=mse(X,Y,param)/RANGE\n",
    "    a=0\n",
    "    for j in range(3,21,3):\n",
    "        a+=E(abs(fittingFunc(param[j-3:j])(X[(j/3)*10])-fittingFunc(param[j:j+3])(X[(j/3)*10]))/RANGE-ALPHA)-1\n",
    "    b=0\n",
    "    for j in range(3,21,3):\n",
    "        b+=(E((abs(math.atan(2*param[j-3]+param[j-2])-math.atan(2*param[j])+param(j+1))-BETA))-1)/(10*math.e)\n",
    "    return s+a+b\n",
    "#不考虑其他因素\n",
    "def evalfunc(param):\n",
    "    s=mse(X,Y,param)/RANGE\n",
    "    return s\n",
    "\n",
    "def draw(title):\n",
    "    global X\n",
    "\n",
    "    res=cmaUser(evalfunc)\n",
    "    res1=cmaUser(evalfunc1)\n",
    "    res2=cmaUser(evalfunc2)\n",
    "    res3=cmaUser(evalfunc3)\n",
    "\n",
    "    plt.figure(1) \n",
    "    plt.plot(X,Y,'b.',alpha=0.6,label=\"measure point\")\n",
    "    X1=np.insert(X,0,[-5.01,-3.01,-1.01,0.99,2.99,4.99])\n",
    "    X1.sort()\n",
    "\n",
    "    plt.plot(X1,map(realLineFunc(res),X1),c=\"red\",lw=2,ls=\"-\",alpha=0.7,label=\"interval\")\n",
    "    plt.plot(X1,map(realLineFunc(res1),X1),c=\"blue\",lw=2,ls=\"-\",alpha=0.7,label=\"continuity1\")\n",
    "    plt.plot(X1,map(realLineFunc(res2),X1),c=\"green\",lw=2,ls=\"-\",alpha=0.7,label=\"continuity2\")\n",
    "    plt.plot(X1,map(realLineFunc(res3),X1),c=\"black\",lw=2,ls=\"--\",alpha=0.7,label=\"continuity3\")\n",
    "    plt.legend(loc='best')\n",
    "    plt.xlabel('x')\n",
    "    plt.ylabel('y')\n",
    "    plt.title(title)\n",
    "    plt.show()\n",
    "    plt.figure(2)\n",
    "    plt.plot(X,Y,'b.',alpha=0.6,label=\"measure point\")\n",
    "    plt.plot(X1,map(realLineFunc([1,0,2,-40]),X1),c=\"cyan\",lw=2,ls=\"-\",alpha=0.7,label=\"real function\")\n",
    "    plt.plot(X1,map(realLineFunc(res3),X1),c=\"black\",lw=2,ls=\"--\",alpha=0.7,label=\"continuity3\")\n",
    "    plt.legend(loc='best')\n",
    "    plt.title(\"Compare best fitting curve with real curve \")\n",
    "    plt.xlabel('x')\n",
    "    plt.ylabel('y')\n",
    "    plt.show()\n"
   ]
  },
  {
   "cell_type": "code",
   "execution_count": null,
   "metadata": {
    "collapsed": true
   },
   "outputs": [],
   "source": [
    "draw('fitting of interval  quadratic curve with curve')"
   ]
  },
  {
   "cell_type": "markdown",
   "metadata": {},
   "source": [
    "<center>4种策略下最优评价函数值</center>\n",
    "\n",
    " interval         | continuity1  |continuity2    |continuity3\n",
    " ---------------- |---------------|--------------|--------------\n",
    " 0.0166098265438 |-0.0418342446941|-0.0174967646088|-0.0757380809252\n",
    " \n",
    "![](fig/figure_41.pdf)\n",
    "![](fig/figure_42.pdf)"
   ]
  },
  {
   "cell_type": "markdown",
   "metadata": {},
   "source": [
    "## 正弦函数分段二次平滑\n",
    "### 构造函数\n",
    "构造正弦函数$y=10sin0.6x , x\\in [-10,10]$，分七段用二次曲线进行拟合\n",
    "### 构造数据集"
   ]
  },
  {
   "cell_type": "code",
   "execution_count": 9,
   "metadata": {
    "collapsed": false
   },
   "outputs": [
    {
     "data": {
      "text/plain": [
       "<matplotlib.collections.PathCollection at 0x117734090>"
      ]
     },
     "execution_count": 9,
     "metadata": {},
     "output_type": "execute_result"
    }
   ],
   "source": [
    "#构造数据集\n",
    "def linefunc3(x):\n",
    "    return 10*math.sin(0.7*x)+rd.uniform(-1.5,1.5)*rd.gauss(0,5)\n",
    "X=np.linspace(-7,7,301)\n",
    "Y=map(linefunc3,X)\n",
    "DIM=14\n",
    "RANGE=max(Y)-min(Y)\n",
    "ALPHA=0.01*RANGE\n",
    "BETA=PI/18.0\n",
    "scatter(X,Y)"
   ]
  },
  {
   "cell_type": "markdown",
   "metadata": {},
   "source": [
    "![](fig/figure_51.pdf)"
   ]
  },
  {
   "cell_type": "code",
   "execution_count": null,
   "metadata": {
    "collapsed": true
   },
   "outputs": [],
   "source": [
    "draw('fitting of interval  sin curve with curve')"
   ]
  },
  {
   "cell_type": "markdown",
   "metadata": {},
   "source": [
    "<center>4种策略下最优评价函数值</center>\n",
    "\n",
    " interval         | continuity1  |continuity2    |continuity3\n",
    " ---------------- |---------------|-------------- |--------------\n",
    "  0.0340212286044 |-0.0243540062207|0.00398263132657|-0.0545520520545\n",
    " \n",
    "![](fig/figure_52.pdf)\n",
    "![](fig/figure_53.pdf)"
   ]
  },
  {
   "cell_type": "code",
   "execution_count": 5,
   "metadata": {
    "collapsed": false
   },
   "outputs": [],
   "source": [
    "draw('fitting of interval  quadratic curve with line')"
   ]
  },
  {
   "cell_type": "markdown",
   "metadata": {},
   "source": [
    "<center>4种策略下最优评价函数值</center>\n",
    "\n",
    " interval         | continuity1  |continuity2    |continuity3\n",
    " ---------------- |---------------|-------------- |--------------\n",
    " 0.0345438972758 |-0.0215188700765|0.0403446057001|-0.0237311926117\n",
    "设置BETA=PI/4.0（45度）\n",
    "![](fig/figure_54.pdf)\n",
    "![](fig/figure_55.pdf)"
   ]
  }
 ],
 "metadata": {
  "kernelspec": {
   "display_name": "Python 2",
   "language": "python",
   "name": "python2"
  },
  "language_info": {
   "codemirror_mode": {
    "name": "ipython",
    "version": 2
   },
   "file_extension": ".py",
   "mimetype": "text/x-python",
   "name": "python",
   "nbconvert_exporter": "python",
   "pygments_lexer": "ipython2",
   "version": "2.7.6"
  }
 },
 "nbformat": 4,
 "nbformat_minor": 0
}
