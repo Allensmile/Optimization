{
 "cells": [
  {
   "cell_type": "code",
   "execution_count": 1,
   "metadata": {
    "collapsed": false
   },
   "outputs": [
    {
     "name": "stdout",
     "output_type": "stream",
     "text": [
      "Using matplotlib backend: MacOSX\n",
      "Populating the interactive namespace from numpy and matplotlib\n"
     ]
    }
   ],
   "source": [
    "import ps\n",
    "import json\n",
    "import math\n",
    "E=math.exp\n",
    "%pylab\n",
    "plt.rc('figure', figsize=(10, 10))\n",
    "Xs=ps.loadData('Xs.tl')"
   ]
  },
  {
   "cell_type": "code",
   "execution_count": 25,
   "metadata": {
    "collapsed": false
   },
   "outputs": [],
   "source": [
    "def makeData(original):\n",
    "    l=len(original)\n",
    "    w=len(original[0])\n",
    "    dic={}\n",
    "    for i in range(l):\n",
    "        datai=[]\n",
    "        for j in range(w):\n",
    "            datai.append(dict(value=original[i][j].tolist()))\n",
    "        dic[i]=datai\n",
    "    dic['label']=dic.keys() \n",
    "    return dic\n",
    "def genCode(data):\n",
    "    L=list()\n",
    "    for i in data['label']:\n",
    "        if i==0:\n",
    "            continue;\n",
    "        else:\n",
    "            L.append(\",{title:{'text':'the %s th iteration'},series:[{'data':data1[%s]}]}\"%(i,i))\n",
    "    return ''.join(L)\n",
    "def func(x,y):\n",
    "    return 3*(1-x**2)*np.exp(-x**2-(y+1)**2)-10*(x/5.0-x**3-y**5)*np.exp(-x**2-y**2)-np.exp(-(x+1)**2-y**2)/3.0\n",
    "def rastigin(x,y):\n",
    "    return 20+x**2+y**2-10*(np.cos(2*pi*x)+np.cos(2*pi*y))\n",
    "def draw(func):\n",
    "    delta = 0.025\n",
    "    x = np.arange(-4.0, 4.0, delta)\n",
    "    y = np.arange(-4.0, 4.0, delta)\n",
    "    X, Y = np.meshgrid(x, y)\n",
    "    Z=func(X,Y)\n",
    "    CS = plt.contour(X, Y, Z, 15, linewidths=0.5, colors='k')\n",
    "    CS = plt.contourf(X, Y, Z, 15, cmap=plt.cm.rainbow,\n",
    "                      vmax=abs(Z).max(), vmin=-abs(Z).max())"
   ]
  },
  {
   "cell_type": "code",
   "execution_count": 3,
   "metadata": {
    "collapsed": false
   },
   "outputs": [],
   "source": [
    "Data=makeData(Xs)\n",
    "with open('data.js','w+') as f:\n",
    "    f.write('data=\\n')\n",
    "    json.dump(Data,f, sort_keys=True, indent=4)"
   ]
  },
  {
   "cell_type": "code",
   "execution_count": 4,
   "metadata": {
    "collapsed": false
   },
   "outputs": [],
   "source": [
    "draw(func)"
   ]
  },
  {
   "cell_type": "code",
   "execution_count": 17,
   "metadata": {
    "collapsed": true
   },
   "outputs": [],
   "source": [
    "from matplotlib.ticker import LinearLocator, FormatStrFormatter\n",
    "from mpl_toolkits.mplot3d import Axes3D\n",
    "def draw3d(func):\n",
    "    fig = plt.figure()\n",
    "    ax = fig.gca(projection='3d')\n",
    "    X = np.arange(-5, 5, 0.25)\n",
    "    Y = np.arange(-5, 5, 0.25)\n",
    "    X, Y = np.meshgrid(X, Y) \n",
    "    Z = func(X,Y)\n",
    "    surf = ax.plot_surface(X, Y, Z, rstride=1, cstride=1, cmap=cm.coolwarm,\n",
    "            linewidth=0, antialiased=False)\n",
    "    #ax.set_zlim(-1.01, 1.01)\n",
    "    ax.zaxis.set_major_locator(LinearLocator(10))\n",
    "    ax.zaxis.set_major_formatter(FormatStrFormatter('%.02f'))\n",
    "    fig.colorbar(surf, shrink=0.5, aspect=5)\n",
    "    plt.show()"
   ]
  },
  {
   "cell_type": "code",
   "execution_count": 18,
   "metadata": {
    "collapsed": false
   },
   "outputs": [],
   "source": [
    "draw3d(rastigin)"
   ]
  },
  {
   "cell_type": "code",
   "execution_count": 19,
   "metadata": {
    "collapsed": false
   },
   "outputs": [],
   "source": [
    "draw(rastigin)"
   ]
  },
  {
   "cell_type": "code",
   "execution_count": 33,
   "metadata": {
    "collapsed": false
   },
   "outputs": [],
   "source": [
    "Gs=ps.loadData('Gs.tl')"
   ]
  },
  {
   "cell_type": "code",
   "execution_count": 34,
   "metadata": {
    "collapsed": false
   },
   "outputs": [],
   "source": [
    "Data1=makeData(Gs)\n",
    "with open('data1.js','w+') as f:\n",
    "    f.write('data1=\\n')\n",
    "    json.dump(Data1,f, sort_keys=True, indent=4)"
   ]
  },
  {
   "cell_type": "code",
   "execution_count": 35,
   "metadata": {
    "collapsed": false
   },
   "outputs": [
    {
     "data": {
      "text/plain": [
       "\",{title:{'text':'the 1 th iteration'},series:[{'data':data1[1]}]},{title:{'text':'the 2 th iteration'},series:[{'data':data1[2]}]},{title:{'text':'the 3 th iteration'},series:[{'data':data1[3]}]},{title:{'text':'the 4 th iteration'},series:[{'data':data1[4]}]},{title:{'text':'the 5 th iteration'},series:[{'data':data1[5]}]},{title:{'text':'the 6 th iteration'},series:[{'data':data1[6]}]},{title:{'text':'the 7 th iteration'},series:[{'data':data1[7]}]},{title:{'text':'the 8 th iteration'},series:[{'data':data1[8]}]},{title:{'text':'the 9 th iteration'},series:[{'data':data1[9]}]},{title:{'text':'the 10 th iteration'},series:[{'data':data1[10]}]},{title:{'text':'the 11 th iteration'},series:[{'data':data1[11]}]},{title:{'text':'the 12 th iteration'},series:[{'data':data1[12]}]},{title:{'text':'the 13 th iteration'},series:[{'data':data1[13]}]},{title:{'text':'the 14 th iteration'},series:[{'data':data1[14]}]},{title:{'text':'the 15 th iteration'},series:[{'data':data1[15]}]},{title:{'text':'the 16 th iteration'},series:[{'data':data1[16]}]},{title:{'text':'the 17 th iteration'},series:[{'data':data1[17]}]},{title:{'text':'the 18 th iteration'},series:[{'data':data1[18]}]},{title:{'text':'the 19 th iteration'},series:[{'data':data1[19]}]},{title:{'text':'the 20 th iteration'},series:[{'data':data1[20]}]},{title:{'text':'the 21 th iteration'},series:[{'data':data1[21]}]},{title:{'text':'the 22 th iteration'},series:[{'data':data1[22]}]},{title:{'text':'the 23 th iteration'},series:[{'data':data1[23]}]},{title:{'text':'the 24 th iteration'},series:[{'data':data1[24]}]},{title:{'text':'the 25 th iteration'},series:[{'data':data1[25]}]},{title:{'text':'the 26 th iteration'},series:[{'data':data1[26]}]},{title:{'text':'the 27 th iteration'},series:[{'data':data1[27]}]},{title:{'text':'the 28 th iteration'},series:[{'data':data1[28]}]},{title:{'text':'the 29 th iteration'},series:[{'data':data1[29]}]},{title:{'text':'the 30 th iteration'},series:[{'data':data1[30]}]},{title:{'text':'the 31 th iteration'},series:[{'data':data1[31]}]},{title:{'text':'the 32 th iteration'},series:[{'data':data1[32]}]},{title:{'text':'the 33 th iteration'},series:[{'data':data1[33]}]},{title:{'text':'the 34 th iteration'},series:[{'data':data1[34]}]},{title:{'text':'the 35 th iteration'},series:[{'data':data1[35]}]},{title:{'text':'the 36 th iteration'},series:[{'data':data1[36]}]},{title:{'text':'the 37 th iteration'},series:[{'data':data1[37]}]},{title:{'text':'the 38 th iteration'},series:[{'data':data1[38]}]},{title:{'text':'the 39 th iteration'},series:[{'data':data1[39]}]},{title:{'text':'the 40 th iteration'},series:[{'data':data1[40]}]},{title:{'text':'the 41 th iteration'},series:[{'data':data1[41]}]},{title:{'text':'the 42 th iteration'},series:[{'data':data1[42]}]},{title:{'text':'the 43 th iteration'},series:[{'data':data1[43]}]},{title:{'text':'the 44 th iteration'},series:[{'data':data1[44]}]},{title:{'text':'the 45 th iteration'},series:[{'data':data1[45]}]},{title:{'text':'the 46 th iteration'},series:[{'data':data1[46]}]},{title:{'text':'the 47 th iteration'},series:[{'data':data1[47]}]},{title:{'text':'the 48 th iteration'},series:[{'data':data1[48]}]},{title:{'text':'the 49 th iteration'},series:[{'data':data1[49]}]},{title:{'text':'the 50 th iteration'},series:[{'data':data1[50]}]},{title:{'text':'the 51 th iteration'},series:[{'data':data1[51]}]},{title:{'text':'the 52 th iteration'},series:[{'data':data1[52]}]},{title:{'text':'the 53 th iteration'},series:[{'data':data1[53]}]},{title:{'text':'the 54 th iteration'},series:[{'data':data1[54]}]},{title:{'text':'the 55 th iteration'},series:[{'data':data1[55]}]},{title:{'text':'the 56 th iteration'},series:[{'data':data1[56]}]},{title:{'text':'the 57 th iteration'},series:[{'data':data1[57]}]},{title:{'text':'the 58 th iteration'},series:[{'data':data1[58]}]},{title:{'text':'the 59 th iteration'},series:[{'data':data1[59]}]},{title:{'text':'the 60 th iteration'},series:[{'data':data1[60]}]},{title:{'text':'the 61 th iteration'},series:[{'data':data1[61]}]},{title:{'text':'the 62 th iteration'},series:[{'data':data1[62]}]},{title:{'text':'the 63 th iteration'},series:[{'data':data1[63]}]},{title:{'text':'the 64 th iteration'},series:[{'data':data1[64]}]},{title:{'text':'the 65 th iteration'},series:[{'data':data1[65]}]},{title:{'text':'the 66 th iteration'},series:[{'data':data1[66]}]},{title:{'text':'the 67 th iteration'},series:[{'data':data1[67]}]},{title:{'text':'the 68 th iteration'},series:[{'data':data1[68]}]},{title:{'text':'the 69 th iteration'},series:[{'data':data1[69]}]},{title:{'text':'the 70 th iteration'},series:[{'data':data1[70]}]},{title:{'text':'the 71 th iteration'},series:[{'data':data1[71]}]},{title:{'text':'the 72 th iteration'},series:[{'data':data1[72]}]},{title:{'text':'the 73 th iteration'},series:[{'data':data1[73]}]},{title:{'text':'the 74 th iteration'},series:[{'data':data1[74]}]},{title:{'text':'the 75 th iteration'},series:[{'data':data1[75]}]},{title:{'text':'the 76 th iteration'},series:[{'data':data1[76]}]},{title:{'text':'the 77 th iteration'},series:[{'data':data1[77]}]},{title:{'text':'the 78 th iteration'},series:[{'data':data1[78]}]},{title:{'text':'the 79 th iteration'},series:[{'data':data1[79]}]},{title:{'text':'the 80 th iteration'},series:[{'data':data1[80]}]},{title:{'text':'the 81 th iteration'},series:[{'data':data1[81]}]},{title:{'text':'the 82 th iteration'},series:[{'data':data1[82]}]},{title:{'text':'the 83 th iteration'},series:[{'data':data1[83]}]},{title:{'text':'the 84 th iteration'},series:[{'data':data1[84]}]},{title:{'text':'the 85 th iteration'},series:[{'data':data1[85]}]},{title:{'text':'the 86 th iteration'},series:[{'data':data1[86]}]},{title:{'text':'the 87 th iteration'},series:[{'data':data1[87]}]},{title:{'text':'the 88 th iteration'},series:[{'data':data1[88]}]},{title:{'text':'the 89 th iteration'},series:[{'data':data1[89]}]},{title:{'text':'the 90 th iteration'},series:[{'data':data1[90]}]},{title:{'text':'the 91 th iteration'},series:[{'data':data1[91]}]},{title:{'text':'the 92 th iteration'},series:[{'data':data1[92]}]},{title:{'text':'the 93 th iteration'},series:[{'data':data1[93]}]},{title:{'text':'the 94 th iteration'},series:[{'data':data1[94]}]},{title:{'text':'the 95 th iteration'},series:[{'data':data1[95]}]},{title:{'text':'the 96 th iteration'},series:[{'data':data1[96]}]},{title:{'text':'the 97 th iteration'},series:[{'data':data1[97]}]},{title:{'text':'the 98 th iteration'},series:[{'data':data1[98]}]},{title:{'text':'the 99 th iteration'},series:[{'data':data1[99]}]},{title:{'text':'the 100 th iteration'},series:[{'data':data1[100]}]},{title:{'text':'the 101 th iteration'},series:[{'data':data1[101]}]},{title:{'text':'the 102 th iteration'},series:[{'data':data1[102]}]},{title:{'text':'the 103 th iteration'},series:[{'data':data1[103]}]},{title:{'text':'the 104 th iteration'},series:[{'data':data1[104]}]},{title:{'text':'the 105 th iteration'},series:[{'data':data1[105]}]},{title:{'text':'the 106 th iteration'},series:[{'data':data1[106]}]},{title:{'text':'the 107 th iteration'},series:[{'data':data1[107]}]},{title:{'text':'the 108 th iteration'},series:[{'data':data1[108]}]},{title:{'text':'the 109 th iteration'},series:[{'data':data1[109]}]},{title:{'text':'the 110 th iteration'},series:[{'data':data1[110]}]},{title:{'text':'the 111 th iteration'},series:[{'data':data1[111]}]},{title:{'text':'the 112 th iteration'},series:[{'data':data1[112]}]},{title:{'text':'the 113 th iteration'},series:[{'data':data1[113]}]},{title:{'text':'the 114 th iteration'},series:[{'data':data1[114]}]},{title:{'text':'the 115 th iteration'},series:[{'data':data1[115]}]},{title:{'text':'the 116 th iteration'},series:[{'data':data1[116]}]},{title:{'text':'the 117 th iteration'},series:[{'data':data1[117]}]},{title:{'text':'the 118 th iteration'},series:[{'data':data1[118]}]},{title:{'text':'the 119 th iteration'},series:[{'data':data1[119]}]},{title:{'text':'the 120 th iteration'},series:[{'data':data1[120]}]},{title:{'text':'the 121 th iteration'},series:[{'data':data1[121]}]},{title:{'text':'the 122 th iteration'},series:[{'data':data1[122]}]},{title:{'text':'the 123 th iteration'},series:[{'data':data1[123]}]},{title:{'text':'the 124 th iteration'},series:[{'data':data1[124]}]},{title:{'text':'the 125 th iteration'},series:[{'data':data1[125]}]},{title:{'text':'the 126 th iteration'},series:[{'data':data1[126]}]},{title:{'text':'the 127 th iteration'},series:[{'data':data1[127]}]},{title:{'text':'the 128 th iteration'},series:[{'data':data1[128]}]},{title:{'text':'the 129 th iteration'},series:[{'data':data1[129]}]},{title:{'text':'the 130 th iteration'},series:[{'data':data1[130]}]},{title:{'text':'the 131 th iteration'},series:[{'data':data1[131]}]},{title:{'text':'the 132 th iteration'},series:[{'data':data1[132]}]},{title:{'text':'the 133 th iteration'},series:[{'data':data1[133]}]},{title:{'text':'the 134 th iteration'},series:[{'data':data1[134]}]},{title:{'text':'the 135 th iteration'},series:[{'data':data1[135]}]},{title:{'text':'the 136 th iteration'},series:[{'data':data1[136]}]},{title:{'text':'the 137 th iteration'},series:[{'data':data1[137]}]},{title:{'text':'the 138 th iteration'},series:[{'data':data1[138]}]},{title:{'text':'the 139 th iteration'},series:[{'data':data1[139]}]},{title:{'text':'the 140 th iteration'},series:[{'data':data1[140]}]},{title:{'text':'the 141 th iteration'},series:[{'data':data1[141]}]},{title:{'text':'the 142 th iteration'},series:[{'data':data1[142]}]},{title:{'text':'the 143 th iteration'},series:[{'data':data1[143]}]},{title:{'text':'the 144 th iteration'},series:[{'data':data1[144]}]},{title:{'text':'the 145 th iteration'},series:[{'data':data1[145]}]},{title:{'text':'the 146 th iteration'},series:[{'data':data1[146]}]},{title:{'text':'the 147 th iteration'},series:[{'data':data1[147]}]},{title:{'text':'the 148 th iteration'},series:[{'data':data1[148]}]},{title:{'text':'the 149 th iteration'},series:[{'data':data1[149]}]},{title:{'text':'the 150 th iteration'},series:[{'data':data1[150]}]},{title:{'text':'the 151 th iteration'},series:[{'data':data1[151]}]},{title:{'text':'the 152 th iteration'},series:[{'data':data1[152]}]},{title:{'text':'the 153 th iteration'},series:[{'data':data1[153]}]},{title:{'text':'the 154 th iteration'},series:[{'data':data1[154]}]},{title:{'text':'the 155 th iteration'},series:[{'data':data1[155]}]},{title:{'text':'the 156 th iteration'},series:[{'data':data1[156]}]},{title:{'text':'the 157 th iteration'},series:[{'data':data1[157]}]},{title:{'text':'the 158 th iteration'},series:[{'data':data1[158]}]},{title:{'text':'the 159 th iteration'},series:[{'data':data1[159]}]},{title:{'text':'the 160 th iteration'},series:[{'data':data1[160]}]}\""
      ]
     },
     "execution_count": 35,
     "metadata": {},
     "output_type": "execute_result"
    }
   ],
   "source": [
    "genCode(Data1)"
   ]
  },
  {
   "cell_type": "code",
   "execution_count": null,
   "metadata": {
    "collapsed": true
   },
   "outputs": [],
   "source": []
  }
 ],
 "metadata": {
  "kernelspec": {
   "display_name": "Python 2",
   "language": "python",
   "name": "python2"
  },
  "language_info": {
   "codemirror_mode": {
    "name": "ipython",
    "version": 2
   },
   "file_extension": ".py",
   "mimetype": "text/x-python",
   "name": "python",
   "nbconvert_exporter": "python",
   "pygments_lexer": "ipython2",
   "version": "2.7.6"
  }
 },
 "nbformat": 4,
 "nbformat_minor": 0
}
