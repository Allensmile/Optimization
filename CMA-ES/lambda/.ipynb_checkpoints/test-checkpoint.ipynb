{
 "cells": [
  {
   "cell_type": "code",
   "execution_count": 1,
   "metadata": {
    "collapsed": false
   },
   "outputs": [],
   "source": [
    "import ps\n",
    "Xs=ps.loadData('Xs.tl')"
   ]
  },
  {
   "cell_type": "code",
   "execution_count": 12,
   "metadata": {
    "collapsed": false
   },
   "outputs": [],
   "source": [
    "import json"
   ]
  },
  {
   "cell_type": "code",
   "execution_count": 6,
   "metadata": {
    "collapsed": false
   },
   "outputs": [],
   "source": [
    "aa=Xs[0][0]"
   ]
  },
  {
   "cell_type": "code",
   "execution_count": 5,
   "metadata": {
    "collapsed": false
   },
   "outputs": [
    {
     "data": {
      "text/plain": [
       "[0.3772687668982209, 0.12057939129176151]"
      ]
     },
     "execution_count": 5,
     "metadata": {},
     "output_type": "execute_result"
    }
   ],
   "source": [
    "aa.tolist()"
   ]
  },
  {
   "cell_type": "code",
   "execution_count": 37,
   "metadata": {
    "collapsed": true
   },
   "outputs": [],
   "source": [
    "def makeData(original):\n",
    "    l=len(original)\n",
    "    w=len(original[0])\n",
    "    dic={}\n",
    "    for i in range(l):\n",
    "        datai=[]\n",
    "        for j in range(w):\n",
    "            datai.append(dict(value=original[i][j].tolist()))\n",
    "        dic[i]=datai\n",
    "    dic['label']=dic.keys() \n",
    "    return dic"
   ]
  },
  {
   "cell_type": "code",
   "execution_count": 38,
   "metadata": {
    "collapsed": false
   },
   "outputs": [],
   "source": [
    "Data=makeData(Xs)\n",
    "with open('data.js','w+') as f:\n",
    "    f.write('data=\\n')\n",
    "    json.dump(Data,f, sort_keys=True, indent=4)"
   ]
  },
  {
   "cell_type": "code",
   "execution_count": 41,
   "metadata": {
    "collapsed": false,
    "scrolled": true
   },
   "outputs": [],
   "source": [
    "def genCode(data):\n",
    "    L=list()\n",
    "    for i in data['label']:\n",
    "        if i==0:\n",
    "            continue;\n",
    "        else:\n",
    "            L.append(\",{title:{'text':'the %s th iteration'},series:[{'data':data[%s]}]}\"%(i,i))\n",
    "    return ''.join(L)\n",
    "\n",
    "    "
   ]
  },
  {
   "cell_type": "code",
   "execution_count": 56,
   "metadata": {
    "collapsed": true
   },
   "outputs": [],
   "source": [
    "import math\n",
    "E=math.exp\n",
    "def func(x,y):\n",
    "    return 3*(1-x**2)*np.exp(-x**2-(y+1)**2)-10*(x/5.0-x**3-y**5)*np.exp(-x**2-y**2)-np.exp(-(x+1)**2-y**2)/3.0"
   ]
  },
  {
   "cell_type": "code",
   "execution_count": 73,
   "metadata": {
    "collapsed": false
   },
   "outputs": [
    {
     "name": "stdout",
     "output_type": "stream",
     "text": [
      "Using matplotlib backend: MacOSX\n",
      "Populating the interactive namespace from numpy and matplotlib\n"
     ]
    }
   ],
   "source": [
    "%pylab\n",
    "plt.rc('figure', figsize=(10, 10))"
   ]
  },
  {
   "cell_type": "code",
   "execution_count": 58,
   "metadata": {
    "collapsed": false
   },
   "outputs": [],
   "source": [
    "delta = 0.025\n",
    "x = np.arange(-4.0, 4.0, delta)\n",
    "y = np.arange(-4.0, 4.0, delta)\n",
    "X, Y = np.meshgrid(x, y)\n",
    "Z=func(X,Y)"
   ]
  },
  {
   "cell_type": "code",
   "execution_count": 74,
   "metadata": {
    "collapsed": false
   },
   "outputs": [],
   "source": [
    "CS = plt.contour(X, Y, Z, 15, linewidths=0.5, colors='k')\n",
    "CS = plt.contourf(X, Y, Z, 15, cmap=plt.cm.rainbow,\n",
    "                  vmax=abs(Z).max(), vmin=-abs(Z).max())"
   ]
  },
  {
   "cell_type": "code",
   "execution_count": 52,
   "metadata": {
    "collapsed": false
   },
   "outputs": [
    {
     "data": {
      "text/plain": [
       "array([[-4.   , -3.975, -3.95 , ...,  3.925,  3.95 ,  3.975],\n",
       "       [-4.   , -3.975, -3.95 , ...,  3.925,  3.95 ,  3.975],\n",
       "       [-4.   , -3.975, -3.95 , ...,  3.925,  3.95 ,  3.975],\n",
       "       ..., \n",
       "       [-4.   , -3.975, -3.95 , ...,  3.925,  3.95 ,  3.975],\n",
       "       [-4.   , -3.975, -3.95 , ...,  3.925,  3.95 ,  3.975],\n",
       "       [-4.   , -3.975, -3.95 , ...,  3.925,  3.95 ,  3.975]])"
      ]
     },
     "execution_count": 52,
     "metadata": {},
     "output_type": "execute_result"
    }
   ],
   "source": [
    "X"
   ]
  },
  {
   "cell_type": "code",
   "execution_count": null,
   "metadata": {
    "collapsed": true
   },
   "outputs": [],
   "source": []
  }
 ],
 "metadata": {
  "kernelspec": {
   "display_name": "Python 2",
   "language": "python",
   "name": "python2"
  },
  "language_info": {
   "codemirror_mode": {
    "name": "ipython",
    "version": 2
   },
   "file_extension": ".py",
   "mimetype": "text/x-python",
   "name": "python",
   "nbconvert_exporter": "python",
   "pygments_lexer": "ipython2",
   "version": "2.7.6"
  }
 },
 "nbformat": 4,
 "nbformat_minor": 0
}
